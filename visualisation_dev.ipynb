{
 "cells": [
  {
   "cell_type": "code",
   "execution_count": 1,
   "metadata": {},
   "outputs": [],
   "source": [
    "from importlib import reload\n",
    "from src.Game import Game\n",
    "from src.Players.Minesweeper_bot import Minesweeper_bot\n",
    "from src.UI.GUI_Bot_Inputs import GUI_Bot_Inputs\n",
    "from src.UI.No_UI import No_UI\n",
    "from src.Grid import Grid\n",
    "from src.UI.GUI_User_Inputs import GUI_User_Inputs\n",
    "\n",
    "import matplotlib.pyplot as plt\n",
    "import numpy as np"
   ]
  },
  {
   "cell_type": "code",
   "execution_count": 2,
   "metadata": {},
   "outputs": [],
   "source": [
    "grid = Grid(10, 10, 0.18)\n",
    "game = Game(grid)\n",
    "game.action(5, 5)"
   ]
  },
  {
   "cell_type": "code",
   "execution_count": 3,
   "metadata": {},
   "outputs": [
    {
     "data": {
      "image/png": "[encoded data removed]",
      "text/plain": [
       "<Figure size 640x480 with 1 Axes>"
      ]
     },
     "metadata": {},
     "output_type": "display_data"
    }
   ],
   "source": [
    "from matplotlib.axes import Axes\n",
    "from matplotlib.figure import Figure\n",
    "from numpy import ndarray\n",
    "from matplotlib.colors import ListedColormap\n",
    "\n",
    "\n",
    "def view_grid(grid_values: ndarray, grid_view:ndarray|None=None, mines:ndarray|None=None, fig:Figure=None, ax:Axes=None):\n",
    "    if grid_view is None:\n",
    "        grid_view = np.ones_like(grid_values).astype(np.bool_)\n",
    "    \n",
    "    if mines is None:\n",
    "        mines = np.zeros_like(grid_values).astype(np.bool_)\n",
    "\n",
    "    if fig is None or ax is None:\n",
    "        fig, ax = plt.subplots()\n",
    "\n",
    "    cmap_values = ['lightgray', 'blue', 'green', 'red', 'darkblue', 'darkred', 'cyan', 'black', 'darkgrey', 'orange']\n",
    "    for (j,i),label in np.ndenumerate(grid_values):\n",
    "        if label != 0 and grid_view[j, i] and not mines[j, i]:\n",
    "            ax.text(i,j,label,ha='center',va='center', color=cmap_values[label], fontweight='bold')\n",
    "    \n",
    "    # Grid\n",
    "    ax.grid(which='both', color='black', linestyle='-', linewidth=1)\n",
    "    ax.set_xticks(np.arange(-0.5, grid_values.shape[1], 1), [])\n",
    "    ax.set_yticks(np.arange(-0.5, grid_values.shape[0], 1), [])\n",
    "\n",
    "    cmap_view = ListedColormap(['lightgray', 'darkgray', 'red', 'darkred'])\n",
    "    plot_array = np.zeros_like(grid_values) + 1*(~grid_view) + 2*mines\n",
    "    # plot_array = plot_array*(~mines) + mines*3\n",
    "    ax.imshow(plot_array, cmap=cmap_view, vmin=0, vmax=3)\n",
    "\n",
    "view_grid(grid.grid, game.player_grid_view, mines=grid.mines)"
   ]
  },
  {
   "cell_type": "code",
   "execution_count": 4,
   "metadata": {},
   "outputs": [],
   "source": [
    "from models.Game_Tensor_Interface import Game_Tensor_Interface\n",
    "\n",
    "\n",
    "tensor_representation = Game_Tensor_Interface().to_tensor(*game.visible_grid())"
   ]
  },
  {
   "cell_type": "code",
   "execution_count": 5,
   "metadata": {},
   "outputs": [
    {
     "data": {
      "image/png": "[encoded data removed]",
      "text/plain": [
       "<Figure size 640x480 with 1 Axes>"
      ]
     },
     "metadata": {},
     "output_type": "display_data"
    }
   ],
   "source": [
    "Game_Tensor_Interface.view_grid_tensor(tensor_representation)"
   ]
  },
  {
   "cell_type": "code",
   "execution_count": 61,
   "metadata": {},
   "outputs": [
    {
     "data": {
      "image/png": "[encoded data removed]",
      "text/plain": [
       "<Figure size 640x480 with 1 Axes>"
      ]
     },
     "metadata": {},
     "output_type": "display_data"
    }
   ],
   "source": [
    "from torch import Tensor\n",
    "import torch\n",
    "\n",
    "\n",
    "def view_grid_tensor(tensor_representation: Tensor):\n",
    "    grid_view = tensor_representation[9]\n",
    "    grid_values = torch.sum(tensor_representation[:9] * torch.arange(9).view((9, 1, 1)), dim=0).type(torch.uint8)\n",
    "    return np.array(grid_values), ~(np.array(grid_view).astype(np.bool_))\n",
    "\n",
    "view_grid(*view_grid_tensor(tensor_representation))"
   ]
  },
  {
   "cell_type": "code",
   "execution_count": 54,
   "metadata": {},
   "outputs": [
    {
     "data": {
      "text/plain": [
       "tensor([[0., 0., 0., 0., 1., 0., 0., 1., 0., 0.],\n",
       "        [0., 0., 0., 0., 2., 1., 0., 1., 0., 0.],\n",
       "        [0., 0., 0., 0., 0., 1., 0., 1., 1., 1.],\n",
       "        [0., 0., 0., 0., 2., 1., 0., 0., 0., 0.],\n",
       "        [0., 0., 0., 0., 2., 0., 0., 0., 0., 0.],\n",
       "        [0., 0., 0., 0., 2., 0., 0., 1., 1., 1.],\n",
       "        [0., 0., 0., 0., 2., 1., 1., 2., 0., 0.],\n",
       "        [0., 0., 0., 0., 0., 0., 0., 0., 0., 0.],\n",
       "        [0., 0., 0., 0., 0., 0., 0., 0., 0., 0.],\n",
       "        [0., 0., 0., 0., 0., 0., 0., 0., 0., 0.]])"
      ]
     },
     "execution_count": 54,
     "metadata": {},
     "output_type": "execute_result"
    }
   ],
   "source": [
    "\n",
    "\n"
   ]
  },
  {
   "cell_type": "code",
   "execution_count": null,
   "metadata": {},
   "outputs": [],
   "source": []
  },
  {
   "cell_type": "code",
   "execution_count": null,
   "metadata": {},
   "outputs": [],
   "source": []
  },
  {
   "cell_type": "code",
   "execution_count": 17,
   "metadata": {},
   "outputs": [
    {
     "data": {
      "image/png": "[encoded data removed]",
      "text/plain": [
       "<Figure size 640x480 with 2 Axes>"
      ]
     },
     "metadata": {},
     "output_type": "display_data"
    }
   ],
   "source": [
    "import matplotlib.pyplot as plt\n",
    "import numpy as np\n",
    "from matplotlib.colors import ListedColormap\n",
    "\n",
    "# Example 2D array\n",
    "array = np.array([\n",
    "    [0, 1, 0, 1],\n",
    "    [1, 0, 1, 0],\n",
    "    [0, 1, 0, 1],\n",
    "    [1, 0, 1, 0]\n",
    "])\n",
    "\n",
    "# Define the custom colormap\n",
    "cmap = ListedColormap(['lightgray', 'darkgray'])\n",
    "\n",
    "# Plot the array using plt.imshow with the custom colormap\n",
    "plt.imshow(array, cmap=cmap)\n",
    "\n",
    "# Add gridlines to separate the boxes\n",
    "plt.grid(which='both', color='black', linestyle='-', linewidth=1)\n",
    "\n",
    "# Customize the ticks to place the gridlines between the cells\n",
    "plt.xticks(np.arange(-0.5, array.shape[1], 1), [])\n",
    "plt.yticks(np.arange(-0.5, array.shape[0], 1), [])\n",
    "\n",
    "# Turn on the grid with customized gridlines\n",
    "plt.gca().set_xticks(np.arange(-0.5, array.shape[1], 1), minor=True)\n",
    "plt.gca().set_yticks(np.arange(-0.5, array.shape[0], 1), minor=True)\n",
    "plt.gca().grid(which='minor', color='black', linestyle='-', linewidth=1)\n",
    "plt.gca().tick_params(which='minor', size=0)\n",
    "\n",
    "# Optional: Add a colorbar with binary value labels\n",
    "plt.colorbar(ticks=[0, 1], label='Binary values')\n",
    "\n",
    "plt.show()\n"
   ]
  },
  {
   "cell_type": "code",
   "execution_count": null,
   "metadata": {},
   "outputs": [],
   "source": []
  }
 ],
 "metadata": {
  "kernelspec": {
   "display_name": "PyTorch_3_12",
   "language": "python",
   "name": "python3"
  },
  "language_info": {
   "codemirror_mode": {
    "name": "ipython",
    "version": 3
   },
   "file_extension": ".py",
   "mimetype": "text/x-python",
   "name": "python",
   "nbconvert_exporter": "python",
   "pygments_lexer": "ipython3",
   "version": "3.12.3"
  }
 },
 "nbformat": 4,
 "nbformat_minor": 2
}
