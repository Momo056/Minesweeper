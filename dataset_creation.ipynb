{
 "cells": [
  {
   "cell_type": "code",
   "execution_count": 1,
   "metadata": {},
   "outputs": [],
   "source": [
    "from src.Game import Game\n",
    "from src.Players.Minesweeper_bot import Minesweeper_bot\n",
    "from src.UI.GUI_Bot_Inputs import GUI_Bot_Inputs\n",
    "from src.UI.No_UI import No_UI\n",
    "from src.Grid import Grid\n",
    "\n",
    "import numpy as np\n",
    "import matplotlib.pyplot as plt\n",
    "import scipy.optimize\n",
    "from tqdm.notebook import tqdm\n",
    "import numpy as np\n",
    "from scipy.stats import beta as beta_law\n",
    "import matplotlib.pyplot as plt\n",
    "\n",
    "import torch\n",
    "from random import sample\n",
    "from importlib import reload\n",
    "\n",
    "from models.Game_Tensor_Interface import Game_Tensor_Interface"
   ]
  },
  {
   "cell_type": "code",
   "execution_count": 2,
   "metadata": {},
   "outputs": [],
   "source": [
    "grid_size = 8\n",
    "mine_percent = 0.15"
   ]
  },
  {
   "cell_type": "markdown",
   "metadata": {},
   "source": [
    "# Uniform sampling"
   ]
  },
  {
   "cell_type": "code",
   "execution_count": 4,
   "metadata": {},
   "outputs": [
    {
     "data": {
      "application/vnd.jupyter.widget-view+json": {
       "model_id": "37de6a0abfcc4cb4a3bea21ed4df9605",
       "version_major": 2,
       "version_minor": 0
      },
      "text/plain": [
       "  0%|          | 0/10000 [00:00<?, ?it/s]"
      ]
     },
     "metadata": {},
     "output_type": "display_data"
    }
   ],
   "source": [
    "#Uniform sampling\n",
    "\n",
    "n_game = 10000\n",
    "sample_per_game = 3\n",
    "sample_last = True\n",
    "\n",
    "tensor_list = []\n",
    "mines_list =[]\n",
    "tensor_interface = Game_Tensor_Interface()\n",
    "\n",
    "for i in tqdm(range(n_game)):\n",
    "    # Grid initialisation\n",
    "    grid = Grid(grid_size, grid_size, mine_percent)\n",
    "    game = Game(grid)\n",
    "    bot = Minesweeper_bot()\n",
    "    game.action(*bot.action(*game.visible_grid()))\n",
    "\n",
    "    visible_grid_list = []\n",
    "    while not game.is_ended():\n",
    "        # Register every grids\n",
    "        visible_grid = game.visible_grid()\n",
    "        visible_grid_list.append(visible_grid)\n",
    "\n",
    "        # Play the game\n",
    "        game.action(*bot.action(*visible_grid))\n",
    "\n",
    "    if len(visible_grid_list) <= sample_per_game:\n",
    "        selection = visible_grid_list\n",
    "    elif sample_last:\n",
    "        selection = sample(visible_grid_list[:-1], sample_per_game-1)\n",
    "        selection.append(visible_grid_list[-1])\n",
    "    else:\n",
    "        selection = sample(visible_grid_list, sample_per_game)\n",
    "\n",
    "    for grid_values, grid_view in selection:\n",
    "        tensor_list.append(tensor_interface.to_tensor(grid_values, grid_view))\n",
    "        mines_list.append(grid.mines)\n"
   ]
  },
  {
   "cell_type": "code",
   "execution_count": 6,
   "metadata": {},
   "outputs": [
    {
     "name": "stderr",
     "output_type": "stream",
     "text": [
      "C:\\Users\\toine\\AppData\\Local\\Temp\\ipykernel_12232\\465619920.py:1: DeprecationWarning: In future, it will be an error for 'np.bool_' scalars to be interpreted as an index\n",
      "  mines_tensor = torch.tensor(mines_list)\n",
      "C:\\Users\\toine\\AppData\\Local\\Temp\\ipykernel_12232\\465619920.py:1: UserWarning: Creating a tensor from a list of numpy.ndarrays is extremely slow. Please consider converting the list to a single numpy.ndarray with numpy.array() before converting to a tensor. (Triggered internally at ..\\torch\\csrc\\utils\\tensor_new.cpp:277.)\n",
      "  mines_tensor = torch.tensor(mines_list)\n"
     ]
    }
   ],
   "source": [
    "mines_tensor = torch.tensor(mines_list)"
   ]
  },
  {
   "cell_type": "code",
   "execution_count": 10,
   "metadata": {},
   "outputs": [],
   "source": [
    "data = torch.stack(tensor_list).type(torch.uint8)"
   ]
  },
  {
   "cell_type": "code",
   "execution_count": 12,
   "metadata": {},
   "outputs": [
    {
     "data": {
      "text/plain": [
       "torch.Size([29868, 10, 8, 8])"
      ]
     },
     "execution_count": 12,
     "metadata": {},
     "output_type": "execute_result"
    }
   ],
   "source": [
    "data.shape"
   ]
  },
  {
   "cell_type": "code",
   "execution_count": 13,
   "metadata": {},
   "outputs": [
    {
     "data": {
      "text/plain": [
       "torch.Size([29868, 8, 8])"
      ]
     },
     "execution_count": 13,
     "metadata": {},
     "output_type": "execute_result"
    }
   ],
   "source": [
    "mines_tensor.shape"
   ]
  },
  {
   "cell_type": "code",
   "execution_count": 14,
   "metadata": {},
   "outputs": [],
   "source": [
    "torch.save([data, mines_tensor], 'dataset/uniform_bot/8x8_2990.pt')"
   ]
  },
  {
   "cell_type": "markdown",
   "metadata": {},
   "source": [
    "# Losing position sampling"
   ]
  },
  {
   "cell_type": "code",
   "execution_count": 5,
   "metadata": {},
   "outputs": [],
   "source": [
    "grid_size = 12\n",
    "mine_percent = 0.22"
   ]
  },
  {
   "cell_type": "code",
   "execution_count": 7,
   "metadata": {},
   "outputs": [],
   "source": [
    "n_game = 10\n",
    "\n",
    "def gather_data(n_game:int):\n",
    "    tensor_list = []\n",
    "    mines_list =[]\n",
    "    tensor_interface = Game_Tensor_Interface()\n",
    "\n",
    "    for i in tqdm(range(n_game)):\n",
    "        # Grid initialisation\n",
    "        grid = Grid(grid_size, grid_size, mine_percent)\n",
    "        game = Game(grid)\n",
    "        bot = Minesweeper_bot()\n",
    "        game.action(*bot.action(*game.visible_grid()))\n",
    "\n",
    "        # Play until we are about to do a mistake (or we win)\n",
    "        next_action = bot.action(*game.visible_grid())\n",
    "        while not grid.mines[*next_action] and not game.is_ended():\n",
    "            game.action(*next_action)\n",
    "            if not game.is_ended():\n",
    "                next_action = bot.action(*game.visible_grid())\n",
    "        \n",
    "        if grid.mines[*next_action]:\n",
    "            tensor_list.append(tensor_interface.to_tensor(*game.visible_grid()))\n",
    "            mines_list.append(grid.mines)\n",
    "\n",
    "    data = torch.stack(tensor_list).type(torch.uint8)\n",
    "    mines_tensor = torch.tensor(mines_list)\n",
    "    return data, mines_tensor\n"
   ]
  },
  {
   "cell_type": "code",
   "execution_count": 8,
   "metadata": {},
   "outputs": [
    {
     "data": {
      "application/vnd.jupyter.widget-view+json": {
       "model_id": "5ca8a7ded00f44ffa38958eeeaa81e8b",
       "version_major": 2,
       "version_minor": 0
      },
      "text/plain": [
       "  0%|          | 0/10 [00:00<?, ?it/s]"
      ]
     },
     "metadata": {},
     "output_type": "display_data"
    },
    {
     "name": "stderr",
     "output_type": "stream",
     "text": [
      "C:\\Users\\toine\\AppData\\Local\\Temp\\ipykernel_8264\\4046932697.py:27: DeprecationWarning: In future, it will be an error for 'np.bool_' scalars to be interpreted as an index\n",
      "  mines_tensor = torch.tensor(mines_list)\n",
      "C:\\Users\\toine\\AppData\\Local\\Temp\\ipykernel_8264\\4046932697.py:27: UserWarning: Creating a tensor from a list of numpy.ndarrays is extremely slow. Please consider converting the list to a single numpy.ndarray with numpy.array() before converting to a tensor. (Triggered internally at ..\\torch\\csrc\\utils\\tensor_new.cpp:277.)\n",
      "  mines_tensor = torch.tensor(mines_list)\n"
     ]
    },
    {
     "data": {
      "application/vnd.jupyter.widget-view+json": {
       "model_id": "dfd468ac868449d7a18d3095c4d46beb",
       "version_major": 2,
       "version_minor": 0
      },
      "text/plain": [
       "  0%|          | 0/10 [00:00<?, ?it/s]"
      ]
     },
     "metadata": {},
     "output_type": "display_data"
    },
    {
     "data": {
      "application/vnd.jupyter.widget-view+json": {
       "model_id": "91ff136317cc4b59b88ea2f519bfb45a",
       "version_major": 2,
       "version_minor": 0
      },
      "text/plain": [
       "  0%|          | 0/10 [00:00<?, ?it/s]"
      ]
     },
     "metadata": {},
     "output_type": "display_data"
    },
    {
     "data": {
      "application/vnd.jupyter.widget-view+json": {
       "model_id": "b8ab4bc29e7f4a30868dcc5691fae02e",
       "version_major": 2,
       "version_minor": 0
      },
      "text/plain": [
       "  0%|          | 0/10 [00:00<?, ?it/s]"
      ]
     },
     "metadata": {},
     "output_type": "display_data"
    },
    {
     "data": {
      "application/vnd.jupyter.widget-view+json": {
       "model_id": "9cc5b2d714fc4ac8aed5f0e39a34d969",
       "version_major": 2,
       "version_minor": 0
      },
      "text/plain": [
       "  0%|          | 0/10 [00:00<?, ?it/s]"
      ]
     },
     "metadata": {},
     "output_type": "display_data"
    }
   ],
   "source": [
    "all_res = [gather_data(x) for x in [10]*5]"
   ]
  },
  {
   "cell_type": "code",
   "execution_count": 19,
   "metadata": {},
   "outputs": [],
   "source": [
    "tensor_representations = torch.cat([x for x, y in all_res])\n",
    "mines_tensors = torch.tensor(np.concatenate([y for x, y in all_res]))"
   ]
  },
  {
   "cell_type": "markdown",
   "metadata": {},
   "source": [
    "# Dataset analysis"
   ]
  },
  {
   "cell_type": "code",
   "execution_count": 12,
   "metadata": {},
   "outputs": [],
   "source": [
    "import Lightning.Tensor_Dir_Dataset as tdt\n",
    "reload(tdt)\n",
    "\n",
    "data_model = tdt.Tensor_Dir_Dataset(100)\n",
    "data_model.prepare_data()"
   ]
  },
  {
   "cell_type": "code",
   "execution_count": 4,
   "metadata": {},
   "outputs": [],
   "source": [
    "dir_paths = data_model.get_data_folders()\n",
    "\n",
    "all_datasets = data_model.load_all_datasets(dir_paths)"
   ]
  },
  {
   "cell_type": "code",
   "execution_count": 5,
   "metadata": {},
   "outputs": [
    {
     "data": {
      "text/plain": [
       "[143897, 6918, 7498, 8426, 8762, 9102, 19192, 9852, 9891, 9967]"
      ]
     },
     "execution_count": 5,
     "metadata": {},
     "output_type": "execute_result"
    }
   ],
   "source": [
    "[len(d) for d in all_datasets]"
   ]
  },
  {
   "cell_type": "code",
   "execution_count": 6,
   "metadata": {},
   "outputs": [
    {
     "data": {
      "text/plain": [
       "6918"
      ]
     },
     "execution_count": 6,
     "metadata": {},
     "output_type": "execute_result"
    }
   ],
   "source": [
    "min([len(d) for d in all_datasets])"
   ]
  },
  {
   "cell_type": "code",
   "execution_count": 7,
   "metadata": {},
   "outputs": [],
   "source": [
    "mine_percents = [d.split('_m')[-1] for d in dir_paths]"
   ]
  },
  {
   "cell_type": "code",
   "execution_count": 8,
   "metadata": {},
   "outputs": [
    {
     "data": {
      "text/plain": [
       "(0.0, 12000.0)"
      ]
     },
     "execution_count": 8,
     "metadata": {},
     "output_type": "execute_result"
    },
    {
     "data": {
      "image/png": "[encoded data removed]",
      "text/plain": [
       "<Figure size 640x480 with 1 Axes>"
      ]
     },
     "metadata": {},
     "output_type": "display_data"
    }
   ],
   "source": [
    "plt.bar(mine_percents, [len(d) for d in all_datasets])\n",
    "plt.ylim(0, 12000)"
   ]
  },
  {
   "cell_type": "code",
   "execution_count": 9,
   "metadata": {},
   "outputs": [],
   "source": [
    "from os import listdir\n",
    "from statsmodels.stats.proportion import proportion_confint\n",
    "\n",
    "\n",
    "total_run = [len(listdir(d))*1000 for d in dir_paths]\n",
    "faillure_run = [len(d) for d in all_datasets]\n",
    "success_run = [t-f for t, f in zip(total_run, faillure_run)]\n",
    "\n",
    "success_proba = [s/t for s, t in zip(success_run, total_run)]\n",
    "conf_intervals = [proportion_confint(s, t, alpha=0.05, method='wilson') for s, t in zip(success_run, total_run)]"
   ]
  },
  {
   "cell_type": "code",
   "execution_count": 10,
   "metadata": {},
   "outputs": [
    {
     "data": {
      "text/plain": [
       "<ErrorbarContainer object of 3 artists>"
      ]
     },
     "execution_count": 10,
     "metadata": {},
     "output_type": "execute_result"
    },
    {
     "data": {
      "image/png": "[encoded data removed]",
      "text/plain": [
       "<Figure size 640x480 with 1 Axes>"
      ]
     },
     "metadata": {},
     "output_type": "display_data"
    }
   ],
   "source": [
    "plt.plot([float(m) for m in mine_percents], success_proba)\n",
    "plt.errorbar([float(m) for m in mine_percents], [(a+b)/2 for a, b in conf_intervals], [(b-a)/2 for a, b in conf_intervals])"
   ]
  },
  {
   "cell_type": "code",
   "execution_count": null,
   "metadata": {},
   "outputs": [],
   "source": []
  },
  {
   "cell_type": "code",
   "execution_count": 111,
   "metadata": {},
   "outputs": [],
   "source": [
    "import torch.nn.functional as F\n",
    "\n",
    "\n",
    "grid_tensor, mines = next(iter(data_model.train_dataloader()))\n",
    "\n",
    "no_mines_proba = torch.rand_like(grid_tensor[:, 0]) # Shape : (100, 12, 12) float\n",
    "\n",
    "# Remove the possibility to pick a non boundary box by giving it negative probability\n",
    "boundary = Game_Tensor_Interface.unknown_boundaries(grid_tensor)\n",
    "no_mines_proba -= (~boundary) * 1\n",
    "\n",
    "# Remove the probability of picking a discovered box by giving it zero probability\n",
    "no_mines_proba -= 2*(1-grid_tensor[:, 9])\n",
    "\n",
    "# Compute max along the two axis of the image\n",
    "max_return = torch.max(no_mines_proba, dim=-1, keepdim=False)\n",
    "max_return_2 = torch.max(max_return.values, dim=-1, keepdim=False)\n",
    "\n",
    "# Retireve 2D indices of max values\n",
    "i1 = max_return_2.indices\n",
    "i2 = torch.gather(max_return.indices, -1, i1.view(-1, 1)).view(-1)\n",
    "i = torch.cat([i1.view(-1, 1), i2.view(-1, 1)], dim=-1)\n",
    "\n",
    "# Compute the total number of errors\n",
    "errors = torch.sum(torch.tensor([m[*idx] for m, idx in zip(mines, i)], dtype=torch.float64))"
   ]
  },
  {
   "cell_type": "code",
   "execution_count": 112,
   "metadata": {},
   "outputs": [
    {
     "name": "stdout",
     "output_type": "stream",
     "text": [
      "Total errors: 52.0\n"
     ]
    }
   ],
   "source": [
    "import torch\n",
    "import torch.nn.functional as F\n",
    "\n",
    "# Retrieve a batch from the dataloader\n",
    "grid_tensor, mines = next(iter(data_model.train_dataloader()))\n",
    "\n",
    "# Random probabilities for no mine (same shape as one grid)\n",
    "no_mines_proba = torch.rand_like(grid_tensor[:, 0])  # Shape: (batch_size, height, width)\n",
    "\n",
    "# Mask out non-boundary boxes by setting their probability to -1\n",
    "boundary_mask = Game_Tensor_Interface.unknown_boundaries(grid_tensor)\n",
    "no_mines_proba = no_mines_proba.masked_fill(~boundary_mask, -1)\n",
    "\n",
    "# Mask out discovered boxes by setting their probability to -2\n",
    "discovered_mask = grid_tensor[:, 9] == 0  # discovered cells have value 1, so this is inverted\n",
    "no_mines_proba = no_mines_proba.masked_fill(discovered_mask, -2)\n",
    "\n",
    "# Get 2D indices of the maximum probabilities for each grid in the batch\n",
    "max_vals, max_indices_row = torch.max(no_mines_proba, dim=-1)  # max along width\n",
    "max_vals, max_indices_col = torch.max(max_vals, dim=-1)        # max along height\n",
    "\n",
    "# Combine row and column indices into 2D coordinates\n",
    "max_indices = torch.stack([max_indices_col, \n",
    "                           torch.gather(max_indices_row, 1, max_indices_col.unsqueeze(1)).squeeze(-1)], dim=-1)\n",
    "\n",
    "# Compute the total number of errors by checking the mine at the predicted max indices\n",
    "# Use advanced indexing instead of loops\n",
    "predicted_mine_status = mines[torch.arange(mines.size(0)), max_indices[:, 0], max_indices[:, 1]]\n",
    "\n",
    "# The error is when we predict a cell without a mine, but there's actually a mine\n",
    "errors = predicted_mine_status.float().sum()\n",
    "\n",
    "print(f\"Total errors: {errors.item()}\")\n"
   ]
  },
  {
   "cell_type": "code",
   "execution_count": 113,
   "metadata": {},
   "outputs": [
    {
     "data": {
      "text/plain": [
       "(tensor(0.9981), tensor(0.9981))"
      ]
     },
     "execution_count": 113,
     "metadata": {},
     "output_type": "execute_result"
    }
   ],
   "source": [
    "torch.max(no_mines_proba[0]), no_mines_proba[0, *max_indices[0]]"
   ]
  },
  {
   "cell_type": "code",
   "execution_count": 108,
   "metadata": {},
   "outputs": [],
   "source": []
  },
  {
   "cell_type": "code",
   "execution_count": null,
   "metadata": {},
   "outputs": [],
   "source": []
  },
  {
   "cell_type": "code",
   "execution_count": null,
   "metadata": {},
   "outputs": [],
   "source": []
  },
  {
   "cell_type": "code",
   "execution_count": 94,
   "metadata": {},
   "outputs": [],
   "source": [
    "g1 = torch.gather(no_mines_proba, dim=0, index=i1.view(-1, 1, 1))\n",
    "# g2 = "
   ]
  },
  {
   "cell_type": "code",
   "execution_count": 101,
   "metadata": {},
   "outputs": [
    {
     "data": {
      "text/plain": [
       "torch.Size([100, 100, 12])"
      ]
     },
     "execution_count": 101,
     "metadata": {},
     "output_type": "execute_result"
    }
   ],
   "source": [
    "torch.index_select(no_mines_proba, dim=1, index=i1).shape"
   ]
  },
  {
   "cell_type": "code",
   "execution_count": 95,
   "metadata": {},
   "outputs": [
    {
     "data": {
      "text/plain": [
       "torch.Size([100, 12, 12])"
      ]
     },
     "execution_count": 95,
     "metadata": {},
     "output_type": "execute_result"
    }
   ],
   "source": [
    "no_mines_proba.shape"
   ]
  },
  {
   "cell_type": "code",
   "execution_count": 96,
   "metadata": {},
   "outputs": [
    {
     "data": {
      "text/plain": [
       "torch.Size([100])"
      ]
     },
     "execution_count": 96,
     "metadata": {},
     "output_type": "execute_result"
    }
   ],
   "source": [
    "i1.shape"
   ]
  },
  {
   "cell_type": "code",
   "execution_count": 97,
   "metadata": {},
   "outputs": [
    {
     "data": {
      "text/plain": [
       "torch.Size([100, 1, 1])"
      ]
     },
     "execution_count": 97,
     "metadata": {},
     "output_type": "execute_result"
    }
   ],
   "source": [
    "g1.shape"
   ]
  },
  {
   "cell_type": "code",
   "execution_count": 98,
   "metadata": {},
   "outputs": [
    {
     "data": {
      "text/plain": [
       "tensor(0.9950)"
      ]
     },
     "execution_count": 98,
     "metadata": {},
     "output_type": "execute_result"
    }
   ],
   "source": [
    "no_mines_proba[0, *i[0]]"
   ]
  },
  {
   "cell_type": "code",
   "execution_count": 78,
   "metadata": {},
   "outputs": [
    {
     "data": {
      "text/plain": [
       "tensor(0.9950)"
      ]
     },
     "execution_count": 78,
     "metadata": {},
     "output_type": "execute_result"
    }
   ],
   "source": [
    "torch.max(no_mines_proba[0])"
   ]
  },
  {
   "cell_type": "code",
   "execution_count": null,
   "metadata": {},
   "outputs": [],
   "source": []
  },
  {
   "cell_type": "code",
   "execution_count": null,
   "metadata": {},
   "outputs": [],
   "source": []
  },
  {
   "cell_type": "code",
   "execution_count": 57,
   "metadata": {},
   "outputs": [
    {
     "data": {
      "text/plain": [
       "torch.Size([100, 12, 12])"
      ]
     },
     "execution_count": 57,
     "metadata": {},
     "output_type": "execute_result"
    }
   ],
   "source": [
    "no_mines_proba.shape"
   ]
  },
  {
   "cell_type": "code",
   "execution_count": 58,
   "metadata": {},
   "outputs": [
    {
     "data": {
      "text/plain": [
       "torch.Size([100])"
      ]
     },
     "execution_count": 58,
     "metadata": {},
     "output_type": "execute_result"
    }
   ],
   "source": [
    "i1.shape"
   ]
  },
  {
   "cell_type": "code",
   "execution_count": 60,
   "metadata": {},
   "outputs": [
    {
     "data": {
      "text/plain": [
       "torch.Size([100, 12])"
      ]
     },
     "execution_count": 60,
     "metadata": {},
     "output_type": "execute_result"
    }
   ],
   "source": [
    "max_return.indices.shape"
   ]
  },
  {
   "cell_type": "code",
   "execution_count": null,
   "metadata": {},
   "outputs": [],
   "source": []
  },
  {
   "cell_type": "code",
   "execution_count": null,
   "metadata": {},
   "outputs": [],
   "source": []
  },
  {
   "cell_type": "code",
   "execution_count": null,
   "metadata": {},
   "outputs": [],
   "source": []
  },
  {
   "cell_type": "code",
   "execution_count": 52,
   "metadata": {},
   "outputs": [
    {
     "data": {
      "text/plain": [
       "tensor([[ 7,  5, 11,  ...,  2,  5,  7],\n",
       "        [10,  3, 10,  ...,  7,  5,  8],\n",
       "        [ 3,  3,  9,  ..., 11,  7,  3],\n",
       "        ...,\n",
       "        [ 4,  3,  0,  ...,  2, 10,  7],\n",
       "        [ 3,  3,  8,  ...,  9,  9,  6],\n",
       "        [10,  7,  8,  ...,  4, 10, 10]])"
      ]
     },
     "execution_count": 52,
     "metadata": {},
     "output_type": "execute_result"
    }
   ],
   "source": [
    "max_return.indices"
   ]
  },
  {
   "cell_type": "code",
   "execution_count": 51,
   "metadata": {},
   "outputs": [
    {
     "data": {
      "text/plain": [
       "torch.Size([100, 12])"
      ]
     },
     "execution_count": 51,
     "metadata": {},
     "output_type": "execute_result"
    }
   ],
   "source": [
    "max_return.indices.shape"
   ]
  },
  {
   "cell_type": "code",
   "execution_count": null,
   "metadata": {},
   "outputs": [],
   "source": []
  },
  {
   "cell_type": "code",
   "execution_count": 40,
   "metadata": {},
   "outputs": [
    {
     "data": {
      "text/plain": [
       "torch.Size([100, 12, 12])"
      ]
     },
     "execution_count": 40,
     "metadata": {},
     "output_type": "execute_result"
    }
   ],
   "source": [
    "no_mines_proba.shape"
   ]
  },
  {
   "cell_type": "code",
   "execution_count": null,
   "metadata": {},
   "outputs": [],
   "source": []
  },
  {
   "cell_type": "code",
   "execution_count": null,
   "metadata": {},
   "outputs": [],
   "source": []
  },
  {
   "cell_type": "code",
   "execution_count": 34,
   "metadata": {},
   "outputs": [
    {
     "data": {
      "image/png": "[encoded data removed]",
      "text/plain": [
       "<Figure size 640x480 with 1 Axes>"
      ]
     },
     "metadata": {},
     "output_type": "display_data"
    }
   ],
   "source": [
    "Game_Tensor_Interface.view_grid_tensor(grid_tensor[0])\n",
    "pass"
   ]
  },
  {
   "cell_type": "code",
   "execution_count": 35,
   "metadata": {},
   "outputs": [
    {
     "data": {
      "text/plain": [
       "<matplotlib.image.AxesImage at 0x2041da49400>"
      ]
     },
     "execution_count": 35,
     "metadata": {},
     "output_type": "execute_result"
    },
    {
     "data": {
      "image/png": "[encoded data removed]",
      "text/plain": [
       "<Figure size 640x480 with 1 Axes>"
      ]
     },
     "metadata": {},
     "output_type": "display_data"
    }
   ],
   "source": [
    "plt.imshow(boundaries[0][0]*1.0)"
   ]
  },
  {
   "cell_type": "code",
   "execution_count": null,
   "metadata": {},
   "outputs": [],
   "source": []
  },
  {
   "cell_type": "code",
   "execution_count": null,
   "metadata": {},
   "outputs": [],
   "source": []
  },
  {
   "cell_type": "code",
   "execution_count": null,
   "metadata": {},
   "outputs": [],
   "source": []
  }
 ],
 "metadata": {
  "kernelspec": {
   "display_name": "PyTorch_3_12",
   "language": "python",
   "name": "python3"
  },
  "language_info": {
   "codemirror_mode": {
    "name": "ipython",
    "version": 3
   },
   "file_extension": ".py",
   "mimetype": "text/x-python",
   "name": "python",
   "nbconvert_exporter": "python",
   "pygments_lexer": "ipython3",
   "version": "3.12.3"
  }
 },
 "nbformat": 4,
 "nbformat_minor": 2
}
