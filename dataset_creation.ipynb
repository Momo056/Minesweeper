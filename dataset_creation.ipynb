{
 "cells": [
  {
   "cell_type": "code",
   "execution_count": 3,
   "metadata": {},
   "outputs": [],
   "source": [
    "from src.Game import Game\n",
    "from src.Players.Minesweeper_bot import Minesweeper_bot\n",
    "from src.UI.GUI_Bot_Inputs import GUI_Bot_Inputs\n",
    "from src.UI.No_UI import No_UI\n",
    "from src.Grid import Grid\n",
    "\n",
    "import numpy as np\n",
    "import matplotlib.pyplot as plt\n",
    "import scipy.optimize\n",
    "from tqdm.notebook import tqdm\n",
    "import numpy as np\n",
    "from scipy.stats import beta as beta_law\n",
    "import matplotlib.pyplot as plt\n",
    "\n",
    "import torch\n",
    "from random import sample\n",
    "\n",
    "from models.Game_Tensor_Interface import Game_Tensor_Interface"
   ]
  },
  {
   "cell_type": "code",
   "execution_count": 4,
   "metadata": {},
   "outputs": [],
   "source": [
    "grid_size = 8\n",
    "mine_percent = 0.15"
   ]
  },
  {
   "cell_type": "markdown",
   "metadata": {},
   "source": [
    "# Uniform sampling"
   ]
  },
  {
   "cell_type": "code",
   "execution_count": 4,
   "metadata": {},
   "outputs": [
    {
     "data": {
      "application/vnd.jupyter.widget-view+json": {
       "model_id": "37de6a0abfcc4cb4a3bea21ed4df9605",
       "version_major": 2,
       "version_minor": 0
      },
      "text/plain": [
       "  0%|          | 0/10000 [00:00<?, ?it/s]"
      ]
     },
     "metadata": {},
     "output_type": "display_data"
    }
   ],
   "source": [
    "#Uniform sampling\n",
    "\n",
    "n_game = 10000\n",
    "sample_per_game = 3\n",
    "sample_last = True\n",
    "\n",
    "tensor_list = []\n",
    "mines_list =[]\n",
    "tensor_interface = Game_Tensor_Interface()\n",
    "\n",
    "for i in tqdm(range(n_game)):\n",
    "    # Grid initialisation\n",
    "    grid = Grid(grid_size, grid_size, mine_percent)\n",
    "    game = Game(grid)\n",
    "    bot = Minesweeper_bot()\n",
    "    game.action(*bot.action(*game.visible_grid()))\n",
    "\n",
    "    visible_grid_list = []\n",
    "    while not game.is_ended():\n",
    "        # Register every grids\n",
    "        visible_grid = game.visible_grid()\n",
    "        visible_grid_list.append(visible_grid)\n",
    "\n",
    "        # Play the game\n",
    "        game.action(*bot.action(*visible_grid))\n",
    "\n",
    "    if len(visible_grid_list) <= sample_per_game:\n",
    "        selection = visible_grid_list\n",
    "    elif sample_last:\n",
    "        selection = sample(visible_grid_list[:-1], sample_per_game-1)\n",
    "        selection.append(visible_grid_list[-1])\n",
    "    else:\n",
    "        selection = sample(visible_grid_list, sample_per_game)\n",
    "\n",
    "    for grid_values, grid_view in selection:\n",
    "        tensor_list.append(tensor_interface.to_tensor(grid_values, grid_view))\n",
    "        mines_list.append(grid.mines)\n"
   ]
  },
  {
   "cell_type": "code",
   "execution_count": 6,
   "metadata": {},
   "outputs": [
    {
     "name": "stderr",
     "output_type": "stream",
     "text": [
      "C:\\Users\\toine\\AppData\\Local\\Temp\\ipykernel_12232\\465619920.py:1: DeprecationWarning: In future, it will be an error for 'np.bool_' scalars to be interpreted as an index\n",
      "  mines_tensor = torch.tensor(mines_list)\n",
      "C:\\Users\\toine\\AppData\\Local\\Temp\\ipykernel_12232\\465619920.py:1: UserWarning: Creating a tensor from a list of numpy.ndarrays is extremely slow. Please consider converting the list to a single numpy.ndarray with numpy.array() before converting to a tensor. (Triggered internally at ..\\torch\\csrc\\utils\\tensor_new.cpp:277.)\n",
      "  mines_tensor = torch.tensor(mines_list)\n"
     ]
    }
   ],
   "source": [
    "mines_tensor = torch.tensor(mines_list)"
   ]
  },
  {
   "cell_type": "code",
   "execution_count": 10,
   "metadata": {},
   "outputs": [],
   "source": [
    "data = torch.stack(tensor_list).type(torch.uint8)"
   ]
  },
  {
   "cell_type": "code",
   "execution_count": 12,
   "metadata": {},
   "outputs": [
    {
     "data": {
      "text/plain": [
       "torch.Size([29868, 10, 8, 8])"
      ]
     },
     "execution_count": 12,
     "metadata": {},
     "output_type": "execute_result"
    }
   ],
   "source": [
    "data.shape"
   ]
  },
  {
   "cell_type": "code",
   "execution_count": 13,
   "metadata": {},
   "outputs": [
    {
     "data": {
      "text/plain": [
       "torch.Size([29868, 8, 8])"
      ]
     },
     "execution_count": 13,
     "metadata": {},
     "output_type": "execute_result"
    }
   ],
   "source": [
    "mines_tensor.shape"
   ]
  },
  {
   "cell_type": "code",
   "execution_count": 14,
   "metadata": {},
   "outputs": [],
   "source": [
    "torch.save([data, mines_tensor], 'dataset/uniform_bot/8x8_2990.pt')"
   ]
  },
  {
   "cell_type": "markdown",
   "metadata": {},
   "source": [
    "# Losing position sampling"
   ]
  },
  {
   "cell_type": "code",
   "execution_count": 5,
   "metadata": {},
   "outputs": [],
   "source": [
    "grid_size = 12\n",
    "mine_percent = 0.22"
   ]
  },
  {
   "cell_type": "code",
   "execution_count": 7,
   "metadata": {},
   "outputs": [],
   "source": [
    "n_game = 10\n",
    "\n",
    "def gather_data(n_game:int):\n",
    "    tensor_list = []\n",
    "    mines_list =[]\n",
    "    tensor_interface = Game_Tensor_Interface()\n",
    "\n",
    "    for i in tqdm(range(n_game)):\n",
    "        # Grid initialisation\n",
    "        grid = Grid(grid_size, grid_size, mine_percent)\n",
    "        game = Game(grid)\n",
    "        bot = Minesweeper_bot()\n",
    "        game.action(*bot.action(*game.visible_grid()))\n",
    "\n",
    "        # Play until we are about to do a mistake (or we win)\n",
    "        next_action = bot.action(*game.visible_grid())\n",
    "        while not grid.mines[*next_action] and not game.is_ended():\n",
    "            game.action(*next_action)\n",
    "            if not game.is_ended():\n",
    "                next_action = bot.action(*game.visible_grid())\n",
    "        \n",
    "        if grid.mines[*next_action]:\n",
    "            tensor_list.append(tensor_interface.to_tensor(*game.visible_grid()))\n",
    "            mines_list.append(grid.mines)\n",
    "\n",
    "    data = torch.stack(tensor_list).type(torch.uint8)\n",
    "    mines_tensor = torch.tensor(mines_list)\n",
    "    return data, mines_tensor\n"
   ]
  },
  {
   "cell_type": "code",
   "execution_count": 8,
   "metadata": {},
   "outputs": [
    {
     "data": {
      "application/vnd.jupyter.widget-view+json": {
       "model_id": "5ca8a7ded00f44ffa38958eeeaa81e8b",
       "version_major": 2,
       "version_minor": 0
      },
      "text/plain": [
       "  0%|          | 0/10 [00:00<?, ?it/s]"
      ]
     },
     "metadata": {},
     "output_type": "display_data"
    },
    {
     "name": "stderr",
     "output_type": "stream",
     "text": [
      "C:\\Users\\toine\\AppData\\Local\\Temp\\ipykernel_8264\\4046932697.py:27: DeprecationWarning: In future, it will be an error for 'np.bool_' scalars to be interpreted as an index\n",
      "  mines_tensor = torch.tensor(mines_list)\n",
      "C:\\Users\\toine\\AppData\\Local\\Temp\\ipykernel_8264\\4046932697.py:27: UserWarning: Creating a tensor from a list of numpy.ndarrays is extremely slow. Please consider converting the list to a single numpy.ndarray with numpy.array() before converting to a tensor. (Triggered internally at ..\\torch\\csrc\\utils\\tensor_new.cpp:277.)\n",
      "  mines_tensor = torch.tensor(mines_list)\n"
     ]
    },
    {
     "data": {
      "application/vnd.jupyter.widget-view+json": {
       "model_id": "dfd468ac868449d7a18d3095c4d46beb",
       "version_major": 2,
       "version_minor": 0
      },
      "text/plain": [
       "  0%|          | 0/10 [00:00<?, ?it/s]"
      ]
     },
     "metadata": {},
     "output_type": "display_data"
    },
    {
     "data": {
      "application/vnd.jupyter.widget-view+json": {
       "model_id": "91ff136317cc4b59b88ea2f519bfb45a",
       "version_major": 2,
       "version_minor": 0
      },
      "text/plain": [
       "  0%|          | 0/10 [00:00<?, ?it/s]"
      ]
     },
     "metadata": {},
     "output_type": "display_data"
    },
    {
     "data": {
      "application/vnd.jupyter.widget-view+json": {
       "model_id": "b8ab4bc29e7f4a30868dcc5691fae02e",
       "version_major": 2,
       "version_minor": 0
      },
      "text/plain": [
       "  0%|          | 0/10 [00:00<?, ?it/s]"
      ]
     },
     "metadata": {},
     "output_type": "display_data"
    },
    {
     "data": {
      "application/vnd.jupyter.widget-view+json": {
       "model_id": "9cc5b2d714fc4ac8aed5f0e39a34d969",
       "version_major": 2,
       "version_minor": 0
      },
      "text/plain": [
       "  0%|          | 0/10 [00:00<?, ?it/s]"
      ]
     },
     "metadata": {},
     "output_type": "display_data"
    }
   ],
   "source": [
    "all_res = [gather_data(x) for x in [10]*5]"
   ]
  },
  {
   "cell_type": "code",
   "execution_count": 19,
   "metadata": {},
   "outputs": [],
   "source": [
    "tensor_representations = torch.cat([x for x, y in all_res])\n",
    "mines_tensors = torch.tensor(np.concatenate([y for x, y in all_res]))"
   ]
  },
  {
   "cell_type": "code",
   "execution_count": 20,
   "metadata": {},
   "outputs": [
    {
     "data": {
      "text/plain": [
       "torch.Size([27, 12, 12])"
      ]
     },
     "execution_count": 20,
     "metadata": {},
     "output_type": "execute_result"
    }
   ],
   "source": [
    "mines_tensors.shape"
   ]
  },
  {
   "cell_type": "code",
   "execution_count": null,
   "metadata": {},
   "outputs": [],
   "source": []
  },
  {
   "cell_type": "code",
   "execution_count": 17,
   "metadata": {},
   "outputs": [],
   "source": [
    "torch.save([tensor_representations, mines_tensors], f'dataset/lose_bot/12x12_{len(tensor_representations)}.pt')"
   ]
  },
  {
   "cell_type": "code",
   "execution_count": null,
   "metadata": {},
   "outputs": [],
   "source": []
  },
  {
   "cell_type": "code",
   "execution_count": null,
   "metadata": {},
   "outputs": [],
   "source": []
  },
  {
   "cell_type": "code",
   "execution_count": null,
   "metadata": {},
   "outputs": [],
   "source": []
  },
  {
   "cell_type": "code",
   "execution_count": null,
   "metadata": {},
   "outputs": [],
   "source": []
  },
  {
   "cell_type": "code",
   "execution_count": null,
   "metadata": {},
   "outputs": [],
   "source": []
  }
 ],
 "metadata": {
  "kernelspec": {
   "display_name": "PyTorch_3_12",
   "language": "python",
   "name": "python3"
  },
  "language_info": {
   "codemirror_mode": {
    "name": "ipython",
    "version": 3
   },
   "file_extension": ".py",
   "mimetype": "text/x-python",
   "name": "python",
   "nbconvert_exporter": "python",
   "pygments_lexer": "ipython3",
   "version": "3.12.3"
  }
 },
 "nbformat": 4,
 "nbformat_minor": 2
}
